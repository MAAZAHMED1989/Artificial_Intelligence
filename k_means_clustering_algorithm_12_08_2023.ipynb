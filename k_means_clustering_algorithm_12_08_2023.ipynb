{
  "nbformat": 4,
  "nbformat_minor": 0,
  "metadata": {
    "colab": {
      "provenance": [],
      "authorship_tag": "ABX9TyMZdtR2HLBJyEIxAISYl8eS",
      "include_colab_link": true
    },
    "kernelspec": {
      "name": "python3",
      "display_name": "Python 3"
    },
    "language_info": {
      "name": "python"
    }
  },
  "cells": [
    {
      "cell_type": "markdown",
      "metadata": {
        "id": "view-in-github",
        "colab_type": "text"
      },
      "source": [
        "<a href=\"https://colab.research.google.com/github/MAAZAHMED1989/Artificial_Intelligence/blob/master/k_means_clustering_algorithm_12_08_2023.ipynb\" target=\"_parent\"><img src=\"https://colab.research.google.com/assets/colab-badge.svg\" alt=\"Open In Colab\"/></a>"
      ]
    },
    {
      "cell_type": "markdown",
      "source": [
        "K-means clustering is a method of **unsupervised learning** that aims to partition **n** observations into **k** clusters based on their similarity. It is commonly used in **computer vision**, **image segmentation**, and **vector quantization** .\n",
        "\n",
        "The algorithm works by randomly initializing **k** points, called **means** or **cluster centroids**, and assigning each observation to the closest centroid. Then, it updates the centroids based on the average of the assigned observations, and repeats the process until convergence.\n",
        "\n",
        "There are different ways to initialize the centroids, such as **k-means++**, which uses a sampling technique based on the points' contribution to the overall inertia.\n",
        "\n",
        "Are you looking for more information on k-means clustering? If so, what are you interested in?\n",
        "\n",
        "Source: Conversation with Bing, 13/08/2023\n",
        "(1) k-means clustering - Wikipedia. https://en.wikipedia.org/wiki/K-means_clustering.\n",
        "(2) K-means Algorithm - University of Iowa. https://user.engineering.uiowa.edu/~ie_155/Lecture/K-means.pdf.\n",
        "(3) K means Clustering - Introduction - GeeksforGeeks. https://www.geeksforgeeks.org/k-means-clustering-introduction/.\n",
        "(4) sklearn.cluster.KMeans — scikit-learn 1.3.0 documentation. https://scikit-learn.org/stable/modules/generated/sklearn.cluster.KMeans.html.\n",
        "(5) K-means Clustering Algorithm: Applications, Types, and ... - Simplilearn. https://www.simplilearn.com/tutorials/machine-learning-tutorial/k-means-clustering-algorithm.\n",
        "(6) K-Means Clustering Algorithm - Javatpoint. https://www.javatpoint.com/k-means-clustering-algorithm-in-machine-learning.\n"
      ],
      "metadata": {
        "id": "pjoBj00Tonst"
      }
    },
    {
      "cell_type": "code",
      "execution_count": 1,
      "metadata": {
        "colab": {
          "base_uri": "https://localhost:8080/",
          "height": 472
        },
        "id": "hvJf0JTXoPHz",
        "outputId": "bc28ff8d-3a71-4773-896b-b1871eef640f"
      },
      "outputs": [
        {
          "output_type": "display_data",
          "data": {
            "text/plain": [
              "<Figure size 640x480 with 1 Axes>"
            ],
            "image/png": "[encoded data removed]"
          },
          "metadata": {}
        }
      ],
      "source": [
        "import numpy as np\n",
        "from sklearn.cluster import KMeans\n",
        "import matplotlib.pyplot as plt\n",
        "\n",
        "data = np.array([25, 17, 35, 29, 14, 18]).reshape(-1, 1)\n",
        "k = 2\n",
        "kmeans = KMeans(n_clusters=k, n_init=10, random_state=42)\n",
        "\n",
        "# Fit the data to the model and predict cluster labels\n",
        "cluster_assignments = kmeans.fit_predict(data)\n",
        "\n",
        "# Get cluster centroids\n",
        "cluster_centroids = kmeans.cluster_centers_\n",
        "\n",
        "# Plot the clustered data and centroids\n",
        "plt.scatter(data, np.zeros_like(data), c=cluster_assignments, cmap='viridis', s=100)\n",
        "plt.scatter(cluster_centroids, np.zeros_like(cluster_centroids), marker='X', s=200, c='red')\n",
        "plt.xlabel('Data')\n",
        "plt.ylabel('Cluster')\n",
        "plt.title('K-means Clustering')\n",
        "plt.show()"
      ]
    },
    {
      "cell_type": "code",
      "source": [
        "import numpy as np\n",
        "from sklearn.cluster import KMeans\n",
        "\n",
        "data = np.array([25, 17, 35, 29, 14, 18]).reshape(-1, 1)\n",
        "k = 2\n",
        "#kmeans = KMeans(n_clusters=k, random_state=42)\n",
        "kmeans = KMeans(n_clusters=k, n_init=10, random_state=42)\n",
        "\n",
        "# Fit the data to the model and predict cluster labels\n",
        "cluster_assignments = kmeans.fit_predict(data)\n",
        "\n",
        "# Get cluster centroids\n",
        "cluster_centroids = kmeans.cluster_centers_\n",
        "\n",
        "print(\"Cluster Assignments:\")\n",
        "for i, cluster_id in enumerate(cluster_assignments):\n",
        "    print(f\"Data point {i+1} is assigned to cluster {cluster_id+1}\")\n",
        "\n",
        "print(\"\\nCluster Centroids:\")\n",
        "for i, centroid in enumerate(cluster_centroids):\n",
        "    print(f\"Cluster {i+1} centroid: {centroid[0]}\")"
      ],
      "metadata": {
        "colab": {
          "base_uri": "https://localhost:8080/"
        },
        "id": "OFc19oPJod1G",
        "outputId": "938420ba-c983-4ad8-edcd-dc8b304fa5df"
      },
      "execution_count": 2,
      "outputs": [
        {
          "output_type": "stream",
          "name": "stdout",
          "text": [
            "Cluster Assignments:\n",
            "Data point 1 is assigned to cluster 1\n",
            "Data point 2 is assigned to cluster 2\n",
            "Data point 3 is assigned to cluster 1\n",
            "Data point 4 is assigned to cluster 1\n",
            "Data point 5 is assigned to cluster 2\n",
            "Data point 6 is assigned to cluster 2\n",
            "\n",
            "Cluster Centroids:\n",
            "Cluster 1 centroid: 29.666666666666664\n",
            "Cluster 2 centroid: 16.333333333333336\n"
          ]
        }
      ]
    }
  ]
}