{
  "nbformat": 4,
  "nbformat_minor": 0,
  "metadata": {
    "colab": {
      "provenance": [],
      "authorship_tag": "ABX9TyMLOhv8tPyxfyj++TXvpr51",
      "include_colab_link": true
    },
    "kernelspec": {
      "name": "python3",
      "display_name": "Python 3"
    },
    "language_info": {
      "name": "python"
    }
  },
  "cells": [
    {
      "cell_type": "markdown",
      "metadata": {
        "id": "view-in-github",
        "colab_type": "text"
      },
      "source": [
        "<a href=\"https://colab.research.google.com/github/MAAZAHMED306/Artificial_Intelligence/blob/master/leetcode_com_linked_list.ipynb\" target=\"_parent\"><img src=\"https://colab.research.google.com/assets/colab-badge.svg\" alt=\"Open In Colab\"/></a>"
      ]
    },
    {
      "cell_type": "code",
      "execution_count": 1,
      "metadata": {
        "id": "VX-68Z07c8k0"
      },
      "outputs": [],
      "source": [
        "# Definition for singly-linked list.\n",
        "# class ListNode(object):\n",
        "#     def __init__(self, x):\n",
        "#         self.val = x\n",
        "#         self.next = None\n",
        "\n",
        "def stringToListNode(input):\n",
        "    # Generate list from the input\n",
        "    numbers = json.loads(input)\n",
        "\n",
        "    # Now convert that list into a linked list\n",
        "    dummyRoot = ListNode(0)\n",
        "    ptr = dummyRoot\n",
        "    for number in numbers:\n",
        "        ptr.next = ListNode(number)\n",
        "        ptr = ptr.next\n",
        "\n",
        "    ptr = dummyRoot.next\n",
        "    return ptr\n",
        "\n",
        "def prettyPrintLinkedList(node):\n",
        "    import sys\n",
        "    while node and node.next:\n",
        "        sys.stdout.write(str(node.val) + \"->\")\n",
        "        node = node.next\n",
        "\n",
        "    if node:\n",
        "        print(node.val)\n",
        "    else:\n",
        "        print(\"Empty LinkedList\")\n",
        "\n",
        "def main():\n",
        "    import sys\n",
        "\n",
        "    def readlines():\n",
        "        for line in sys.stdin:\n",
        "            yield line.strip('\\n')\n",
        "\n",
        "    lines = readlines()\n",
        "    while True:\n",
        "        try:\n",
        "            line = next(lines)  # Use next() to get the next line from the generator\n",
        "            node = stringToListNode(line)\n",
        "            prettyPrintLinkedList(node)\n",
        "        except StopIteration:\n",
        "            break\n",
        "\n",
        "if __name__ == '__main__':\n",
        "    main()\n"
      ]
    },
    {
      "cell_type": "code",
      "source": [
        "# Definition for singly-linked list.\n",
        "# class ListNode(object):\n",
        "#     def __init__(self, x):\n",
        "#         self.val = x\n",
        "#         self.next = None\n",
        "\n",
        "def stringToListNode(input):\n",
        "    # Generate list from the input\n",
        "    numbers = json.loads(input)\n",
        "\n",
        "    # Now convert that list into linked list\n",
        "    dummyRoot = ListNode(0)\n",
        "    ptr = dummyRoot\n",
        "    for number in numbers:\n",
        "        ptr.next = ListNode(number)\n",
        "        ptr = ptr.next\n",
        "\n",
        "    ptr = dummyRoot.next\n",
        "    return ptr\n",
        "\n",
        "def prettyPrintLinkedList(node):\n",
        "    import sys\n",
        "    while node and node.next:\n",
        "        sys.stdout.write(str(node.val) + \"->\")\n",
        "        node = node.next\n",
        "\n",
        "    if node:\n",
        "        print(node.val)\n",
        "    else:\n",
        "        print(\"Empty LinkedList\")\n",
        "\n",
        "def main():\n",
        "    import sys\n",
        "\n",
        "    def readlines():\n",
        "        for line in sys.stdin:\n",
        "            yield line.strip('\\n')\n",
        "\n",
        "    lines = readlines()\n",
        "    while True:\n",
        "        try:\n",
        "            line = lines.next()\n",
        "            node = stringToListNode(line)\n",
        "            prettyPrintLinkedList(node)\n",
        "        except StopIteration:\n",
        "            break\n",
        "\n",
        "\n",
        "if __name__ == '__main__':\n",
        "    main()"
      ],
      "metadata": {
        "colab": {
          "base_uri": "https://localhost:8080/",
          "height": 331
        },
        "id": "QLa-eol4dcsb",
        "outputId": "bf8dc5b8-971d-4579-a190-1e3b211c5d33"
      },
      "execution_count": 2,
      "outputs": [
        {
          "output_type": "error",
          "ename": "AttributeError",
          "evalue": "ignored",
          "traceback": [
            "\u001b[0;31m---------------------------------------------------------------------------\u001b[0m",
            "\u001b[0;31mAttributeError\u001b[0m                            Traceback (most recent call last)",
            "\u001b[0;32m<ipython-input-2-b155cbc699ab>\u001b[0m in \u001b[0;36m<cell line: 49>\u001b[0;34m()\u001b[0m\n\u001b[1;32m     48\u001b[0m \u001b[0;34m\u001b[0m\u001b[0m\n\u001b[1;32m     49\u001b[0m \u001b[0;32mif\u001b[0m \u001b[0m__name__\u001b[0m \u001b[0;34m==\u001b[0m \u001b[0;34m'__main__'\u001b[0m\u001b[0;34m:\u001b[0m\u001b[0;34m\u001b[0m\u001b[0;34m\u001b[0m\u001b[0m\n\u001b[0;32m---> 50\u001b[0;31m     \u001b[0mmain\u001b[0m\u001b[0;34m(\u001b[0m\u001b[0;34m)\u001b[0m\u001b[0;34m\u001b[0m\u001b[0;34m\u001b[0m\u001b[0m\n\u001b[0m",
            "\u001b[0;32m<ipython-input-2-b155cbc699ab>\u001b[0m in \u001b[0;36mmain\u001b[0;34m()\u001b[0m\n\u001b[1;32m     40\u001b[0m     \u001b[0;32mwhile\u001b[0m \u001b[0;32mTrue\u001b[0m\u001b[0;34m:\u001b[0m\u001b[0;34m\u001b[0m\u001b[0;34m\u001b[0m\u001b[0m\n\u001b[1;32m     41\u001b[0m         \u001b[0;32mtry\u001b[0m\u001b[0;34m:\u001b[0m\u001b[0;34m\u001b[0m\u001b[0;34m\u001b[0m\u001b[0m\n\u001b[0;32m---> 42\u001b[0;31m             \u001b[0mline\u001b[0m \u001b[0;34m=\u001b[0m \u001b[0mlines\u001b[0m\u001b[0;34m.\u001b[0m\u001b[0mnext\u001b[0m\u001b[0;34m(\u001b[0m\u001b[0;34m)\u001b[0m\u001b[0;34m\u001b[0m\u001b[0;34m\u001b[0m\u001b[0m\n\u001b[0m\u001b[1;32m     43\u001b[0m             \u001b[0mnode\u001b[0m \u001b[0;34m=\u001b[0m \u001b[0mstringToListNode\u001b[0m\u001b[0;34m(\u001b[0m\u001b[0mline\u001b[0m\u001b[0;34m)\u001b[0m\u001b[0;34m\u001b[0m\u001b[0;34m\u001b[0m\u001b[0m\n\u001b[1;32m     44\u001b[0m             \u001b[0mprettyPrintLinkedList\u001b[0m\u001b[0;34m(\u001b[0m\u001b[0mnode\u001b[0m\u001b[0;34m)\u001b[0m\u001b[0;34m\u001b[0m\u001b[0;34m\u001b[0m\u001b[0m\n",
            "\u001b[0;31mAttributeError\u001b[0m: 'generator' object has no attribute 'next'"
          ]
        }
      ]
    }
  ]
}